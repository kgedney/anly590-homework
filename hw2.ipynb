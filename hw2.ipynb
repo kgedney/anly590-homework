{
  "nbformat": 4,
  "nbformat_minor": 0,
  "metadata": {
    "colab": {
      "name": "hw2.ipynb",
      "version": "0.3.2",
      "provenance": []
    },
    "kernelspec": {
      "name": "python3",
      "display_name": "Python 3"
    },
    "accelerator": "GPU"
  },
  "cells": [
    {
      "metadata": {
        "id": "3TPfEY2kl5yk",
        "colab_type": "text"
      },
      "cell_type": "markdown",
      "source": [
        "***"
      ]
    },
    {
      "metadata": {
        "id": "D1S2fmV3l5ym",
        "colab_type": "text"
      },
      "cell_type": "markdown",
      "source": [
        "<center>\n",
        " \n",
        "### ANLY 590 | Homework 2\n",
        "### Kendra Gedney | kg729@georgetown.edu \n",
        "\n",
        "<center>"
      ]
    },
    {
      "metadata": {
        "id": "IV-8lfHel5ym",
        "colab_type": "code",
        "colab": {
          "base_uri": "https://localhost:8080/",
          "height": 198
        },
        "outputId": "abf0a818-0a86-44d4-fba0-027958fe4711"
      },
      "cell_type": "code",
      "source": [
        "# set working directory\n",
        "import os\n",
        "path = '/Users/kgedney/Documents/georgetown/anly590/anly590-homework'\n",
        "os.chdir(path)"
      ],
      "execution_count": 1,
      "outputs": [
        {
          "output_type": "error",
          "ename": "FileNotFoundError",
          "evalue": "ignored",
          "traceback": [
            "\u001b[0;31m---------------------------------------------------------------------------\u001b[0m",
            "\u001b[0;31mFileNotFoundError\u001b[0m                         Traceback (most recent call last)",
            "\u001b[0;32m<ipython-input-1-d25bf5d88391>\u001b[0m in \u001b[0;36m<module>\u001b[0;34m()\u001b[0m\n\u001b[1;32m      1\u001b[0m \u001b[0;32mimport\u001b[0m \u001b[0mos\u001b[0m\u001b[0;34m\u001b[0m\u001b[0m\n\u001b[1;32m      2\u001b[0m \u001b[0mpath\u001b[0m \u001b[0;34m=\u001b[0m \u001b[0;34m'/Users/kgedney/Documents/georgetown/anly590/anly590-homework'\u001b[0m\u001b[0;34m\u001b[0m\u001b[0m\n\u001b[0;32m----> 3\u001b[0;31m \u001b[0mos\u001b[0m\u001b[0;34m.\u001b[0m\u001b[0mchdir\u001b[0m\u001b[0;34m(\u001b[0m\u001b[0mpath\u001b[0m\u001b[0;34m)\u001b[0m\u001b[0;34m\u001b[0m\u001b[0m\n\u001b[0m",
            "\u001b[0;31mFileNotFoundError\u001b[0m: [Errno 2] No such file or directory: '/Users/kgedney/Documents/georgetown/anly590/anly590-homework'"
          ]
        }
      ]
    },
    {
      "metadata": {
        "id": "Kiwmt_4ml5yq",
        "colab_type": "code",
        "colab": {}
      },
      "cell_type": "code",
      "source": [
        "# prep\n",
        "import numpy as np\n",
        "import tensorflow as tf\n",
        "\n",
        "import matplotlib.pyplot as plt\n",
        "%matplotlib inline"
      ],
      "execution_count": 0,
      "outputs": []
    },
    {
      "metadata": {
        "id": "q3siX28ql5yt",
        "colab_type": "text"
      },
      "cell_type": "markdown",
      "source": [
        "### Problem 1: Autoencoder"
      ]
    },
    {
      "metadata": {
        "id": "20zQZ7hul5yu",
        "colab_type": "text"
      },
      "cell_type": "markdown",
      "source": [
        "_For this problem, I used the same network as in the blo"
      ]
    },
    {
      "metadata": {
        "collapsed": true,
        "id": "QQN9geCOl5yv",
        "colab_type": "text"
      },
      "cell_type": "markdown",
      "source": [
        "A convolutional autoencoder is a particular flavor of autoencoder where we use convolutional layers instead of dense layers. We have previously applied autoencoders to images using only Dense layers and the result worked fairly well. However, the local spatial correlations of images imply that we should be able to do better using convolutional layers instead of Dense layers.   \n",
        "   \n",
        "Build and fit a convolutional autoencoder for the Fashion MNIST dataset. The components of this network will be many of the same pieces we’ve used with convolutional classification networks: Conv2D, MaxPooling, and so on. The encoder part of the network should run the input image through a few convolutional layers of your choice. The decoder part of the network will utilize UpSampling2D to get the representation back to the original image size.   \n",
        "\n",
        "An example to guide your thinking can be found toward the bottom of this post https://blog.keras.io/building-autoencoders-in-keras.html.\n",
        "   \n",
        "After training your network, visualize some examples of input images and their decoded reconstruction.\n"
      ]
    },
    {
      "metadata": {
        "id": "hlbCyRuRl5yv",
        "colab_type": "code",
        "colab": {
          "base_uri": "https://localhost:8080/",
          "height": 34
        },
        "outputId": "75616c9c-5024-423d-ab4a-b0a79b64fdfb"
      },
      "cell_type": "code",
      "source": [
        "# prep\n",
        "from keras.utils import np_utils\n",
        "\n",
        "from keras.layers import Input, Dense\n",
        "from keras.models import Model, Sequential\n",
        "from keras.layers.core import Dense, Dropout, Activation, Flatten, Reshape\n",
        "from keras.layers.convolutional import Conv2D, MaxPooling2D, ZeroPadding2D, AveragePooling2D, UpSampling2D"
      ],
      "execution_count": 2,
      "outputs": [
        {
          "output_type": "stream",
          "text": [
            "Using TensorFlow backend.\n"
          ],
          "name": "stderr"
        }
      ]
    },
    {
      "metadata": {
        "id": "QTNSyieGmK5z",
        "colab_type": "code",
        "colab": {}
      },
      "cell_type": "code",
      "source": [
        ""
      ],
      "execution_count": 0,
      "outputs": []
    },
    {
      "metadata": {
        "id": "u0ZEK8Ewl5yy",
        "colab_type": "code",
        "colab": {}
      },
      "cell_type": "code",
      "source": [
        "# load data\n",
        "(x_train, y_train), (x_test, y_test) = tf.keras.datasets.fashion_mnist.load_data()"
      ],
      "execution_count": 0,
      "outputs": []
    },
    {
      "metadata": {
        "id": "owswbMDbl5y0",
        "colab_type": "code",
        "colab": {
          "base_uri": "https://localhost:8080/",
          "height": 85
        },
        "outputId": "45d2b75e-42d0-45ca-842c-660d4a8fbfa3"
      },
      "cell_type": "code",
      "source": [
        "# check shapes\n",
        "print(x_train.shape)\n",
        "print(y_train.shape)\n",
        "print(x_test.shape)\n",
        "print(y_test.shape)"
      ],
      "execution_count": 4,
      "outputs": [
        {
          "output_type": "stream",
          "text": [
            "(60000, 28, 28)\n",
            "(60000,)\n",
            "(10000, 28, 28)\n",
            "(10000,)\n"
          ],
          "name": "stdout"
        }
      ]
    },
    {
      "metadata": {
        "id": "ktqTJts6l5y6",
        "colab_type": "code",
        "colab": {
          "base_uri": "https://localhost:8080/",
          "height": 51
        },
        "outputId": "9f8c89fd-baad-4fb8-b37e-ddb9abcad6ef"
      },
      "cell_type": "code",
      "source": [
        "# normalize grayscale\n",
        "x_train = x_train.astype('float32') / 255.\n",
        "x_test  = x_test.astype('float32') / 255.\n",
        "\n",
        "# reshape images\n",
        "x_train = x_train.reshape(x_train.shape[0], 28, 28, 1)\n",
        "x_test  = x_test.reshape(x_test.shape[0], 28, 28, 1)\n",
        "# x_train = x_train.reshape((len(x_train), np.prod(x_train.shape[1:])))\n",
        "# x_test  = x_test.reshape((len(x_test), np.prod(x_test.shape[1:])))\n",
        "\n",
        "print(x_train.shape)\n",
        "print(x_test.shape)"
      ],
      "execution_count": 5,
      "outputs": [
        {
          "output_type": "stream",
          "text": [
            "(60000, 28, 28, 1)\n",
            "(10000, 28, 28, 1)\n"
          ],
          "name": "stdout"
        }
      ]
    },
    {
      "metadata": {
        "id": "lmc-Ielcl5y8",
        "colab_type": "code",
        "colab": {}
      },
      "cell_type": "code",
      "source": [
        "# 10 classes of clothing types - make categorical\n",
        "y_train = np_utils.to_categorical(y_train, 10)\n",
        "y_test = np_utils.to_categorical(y_test, 10)"
      ],
      "execution_count": 0,
      "outputs": []
    },
    {
      "metadata": {
        "id": "fiKpdqJ3l5y_",
        "colab_type": "code",
        "colab": {}
      },
      "cell_type": "code",
      "source": [
        "# copy network from blog post\n",
        "input_img = Input(shape=(28, 28, 1))\n",
        "\n",
        "x = Conv2D(16, (3, 3), activation='relu', padding='same')(input_img)\n",
        "x = MaxPooling2D((2, 2), padding='same')(x)\n",
        "x = Conv2D(8, (3, 3), activation='relu', padding='same')(x)\n",
        "x = MaxPooling2D((2, 2), padding='same')(x)\n",
        "x = Conv2D(8, (3, 3), activation='relu', padding='same')(x)\n",
        "encoded = MaxPooling2D((2, 2), padding='same')(x)\n",
        "\n",
        "# at this point the representation is (4, 4, 8) i.e. 128-dimensional\n",
        "\n",
        "x = Conv2D(8, (3, 3), activation='relu', padding='same')(encoded)\n",
        "x = UpSampling2D((2, 2))(x)\n",
        "x = Conv2D(8, (3, 3), activation='relu', padding='same')(x)\n",
        "x = UpSampling2D((2, 2))(x)\n",
        "x = Conv2D(16, (3, 3), activation='relu')(x)\n",
        "x = UpSampling2D((2, 2))(x)\n",
        "decoded = Conv2D(1, (3, 3), activation='sigmoid', padding='same')(x)\n",
        "\n",
        "autoencoder = Model(input_img, decoded)\n",
        "autoencoder.compile(optimizer='adadelta', loss='binary_crossentropy')"
      ],
      "execution_count": 0,
      "outputs": []
    },
    {
      "metadata": {
        "id": "xmQD4fc2l5zD",
        "colab_type": "code",
        "colab": {
          "base_uri": "https://localhost:8080/",
          "height": 221
        },
        "outputId": "0886294e-e59d-442b-f535-8e7d154c6bfb"
      },
      "cell_type": "code",
      "source": [
        "# train network\n",
        "autoencoder.fit(x_train, x_train,\n",
        "                epochs=5,\n",
        "                batch_size=128,\n",
        "                shuffle=True,\n",
        "                validation_data=(x_test, x_test))"
      ],
      "execution_count": 8,
      "outputs": [
        {
          "output_type": "stream",
          "text": [
            "Train on 60000 samples, validate on 10000 samples\n",
            "Epoch 1/5\n",
            "60000/60000 [==============================] - 8s 140us/step - loss: 0.3736 - val_loss: 0.3380\n",
            "Epoch 2/5\n",
            "60000/60000 [==============================] - 7s 109us/step - loss: 0.3248 - val_loss: 0.3218\n",
            "Epoch 3/5\n",
            "60000/60000 [==============================] - 7s 110us/step - loss: 0.3158 - val_loss: 0.3139\n",
            "Epoch 4/5\n",
            "60000/60000 [==============================] - 7s 112us/step - loss: 0.3112 - val_loss: 0.3058\n",
            "Epoch 5/5\n",
            "60000/60000 [==============================] - 7s 112us/step - loss: 0.3077 - val_loss: 0.3058\n"
          ],
          "name": "stdout"
        },
        {
          "output_type": "execute_result",
          "data": {
            "text/plain": [
              "<keras.callbacks.History at 0x7fa37b2a7f60>"
            ]
          },
          "metadata": {
            "tags": []
          },
          "execution_count": 8
        }
      ]
    },
    {
      "metadata": {
        "scrolled": true,
        "id": "0buf9iA1l5zI",
        "colab_type": "code",
        "colab": {
          "base_uri": "https://localhost:8080/",
          "height": 263
        },
        "outputId": "3fe6090c-75ae-4791-f54b-e70559521933"
      },
      "cell_type": "code",
      "source": [
        "# visualize images before and after decoding\n",
        "plt.figure(figsize=(20, 4))\n",
        "\n",
        "n=10\n",
        "for k in range(n):\n",
        "    ax = plt.subplot(2, n, k+1)\n",
        "    plt.imshow(x_test[k:k+1,:].reshape((28,28)), \"gray\")\n",
        "    ax = plt.subplot(2, n, k+1 + n)\n",
        "    reconstruction = autoencoder.predict(x_test[k:k+1,:])\n",
        "    reconstruction.resize((28,28))\n",
        "    plt.imshow(reconstruction, \"gray\")"
      ],
      "execution_count": 9,
      "outputs": [
        {
          "output_type": "display_data",
          "data": {
            "image/png": "[encoded data removed]",
            "text/plain": [
              "<matplotlib.figure.Figure at 0x7fa33bef7860>"
            ]
          },
          "metadata": {
            "tags": []
          }
        }
      ]
    },
    {
      "metadata": {
        "id": "0uTjJrZsl5zL",
        "colab_type": "text"
      },
      "cell_type": "markdown",
      "source": [
        "### Problem 2: Image Classification"
      ]
    },
    {
      "metadata": {
        "collapsed": true,
        "id": "sZG5NOWAl5zM",
        "colab_type": "text"
      },
      "cell_type": "markdown",
      "source": [
        "#### 2.1: Deep CNN\n",
        "Build a deep CNN to classify the images. Provide a brief description of the architectural choices you’ve made: kernel sizes, strides, padding, network depth. Train your network end-to-end. Report on your model’s performance on training set and test set.\n"
      ]
    },
    {
      "metadata": {
        "id": "_-u30lqIl5zM",
        "colab_type": "code",
        "colab": {}
      },
      "cell_type": "code",
      "source": [
        ""
      ],
      "execution_count": 0,
      "outputs": []
    },
    {
      "metadata": {
        "id": "GnQ2AuGvl5zO",
        "colab_type": "text"
      },
      "cell_type": "markdown",
      "source": [
        "- first used the LeNet architecture -> 86% test accuracy\n",
        "- did a more simple model, but with less dropout, and larger denser layer at the end -> \n",
        "- found that adam optimizer resulted in some modest accuracy gains\n",
        "- try a larger filter size (width of model)\n",
        "- add another convolutional layer\n",
        "- change dense layers, change dropout\n"
      ]
    },
    {
      "metadata": {
        "id": "hzi3eRvdl5zP",
        "colab_type": "code",
        "colab": {}
      },
      "cell_type": "code",
      "source": [
        "# use same dataset as before so inputs are the same\n"
      ],
      "execution_count": 0,
      "outputs": []
    },
    {
      "metadata": {
        "id": "SOYYexnbl5zR",
        "colab_type": "code",
        "colab": {},
        "outputId": "e2ca57e4-69a3-49a5-9516-e43f1ad3c76c"
      },
      "cell_type": "code",
      "source": [
        "# start with a LeNet arichtecture\n",
        "model = Sequential()\n",
        "\n",
        "model.add(Conv2D(filters = 32,kernel_size=(3, 3), \n",
        "                 activation='relu', strides=(1, 1), \n",
        "                 padding='valid', input_shape=(28,28,1)))\n",
        "model.add(MaxPooling2D(pool_size=(2, 2)))\n",
        "\n",
        "model.add(Conv2D(filters = 32,kernel_size=(3, 3), \n",
        "                 activation='relu', strides=(1, 1), \n",
        "                 padding='valid', input_shape=(28,28,1)))\n",
        "model.add(MaxPooling2D(pool_size=(2, 2)))\n",
        "model.add(Dropout(0.5))\n",
        "\n",
        "model.add(Conv2D(filters = 32,kernel_size=(3, 3), \n",
        "                 activation='relu', strides=(1, 1), \n",
        "                 padding='valid', input_shape=(28,28,1)))\n",
        "\n",
        "model.add(Flatten())\n",
        "model.add(Dense(84))\n",
        "model.add(Dense(10))\n",
        "model.add(Activation('softmax'))"
      ],
      "execution_count": 0,
      "outputs": [
        {
          "output_type": "stream",
          "text": [
            "WARNING:tensorflow:From /Users/kgedney/anaconda/lib/python3.6/site-packages/keras/backend/tensorflow_backend.py:1255: calling reduce_prod (from tensorflow.python.ops.math_ops) with keep_dims is deprecated and will be removed in a future version.\n",
            "Instructions for updating:\n",
            "keep_dims is deprecated, use keepdims instead\n"
          ],
          "name": "stdout"
        }
      ]
    },
    {
      "metadata": {
        "id": "JKRALCwll5zV",
        "colab_type": "code",
        "colab": {},
        "outputId": "27ca752a-82c8-45e9-d387-bd9b7517d44a"
      },
      "cell_type": "code",
      "source": [
        "model.compile(optimizer='adadelta', loss='categorical_crossentropy', metrics=['accuracy'])"
      ],
      "execution_count": 0,
      "outputs": [
        {
          "output_type": "stream",
          "text": [
            "WARNING:tensorflow:From /Users/kgedney/anaconda/lib/python3.6/site-packages/keras/backend/tensorflow_backend.py:2857: calling reduce_sum (from tensorflow.python.ops.math_ops) with keep_dims is deprecated and will be removed in a future version.\n",
            "Instructions for updating:\n",
            "keep_dims is deprecated, use keepdims instead\n"
          ],
          "name": "stdout"
        }
      ]
    },
    {
      "metadata": {
        "id": "duYC86Xsl5zZ",
        "colab_type": "code",
        "colab": {},
        "outputId": "b83cdb3b-aa14-4adc-ac24-9cf1be3f5449"
      },
      "cell_type": "code",
      "source": [
        "model.fit(x_train, y_train, epochs=4, validation_data=(x_test, y_test))"
      ],
      "execution_count": 0,
      "outputs": [
        {
          "output_type": "stream",
          "text": [
            "Train on 60000 samples, validate on 10000 samples\n",
            "Epoch 1/4\n",
            "60000/60000 [==============================] - 26s 439us/step - loss: 0.5467 - acc: 0.7956 - val_loss: 0.4759 - val_acc: 0.8236\n",
            "Epoch 2/4\n",
            "60000/60000 [==============================] - 24s 399us/step - loss: 0.4816 - acc: 0.8230 - val_loss: 0.4469 - val_acc: 0.8324\n",
            "Epoch 3/4\n",
            "60000/60000 [==============================] - 24s 402us/step - loss: 0.4417 - acc: 0.8377 - val_loss: 0.3864 - val_acc: 0.8624\n",
            "Epoch 4/4\n",
            "60000/60000 [==============================] - 25s 413us/step - loss: 0.4136 - acc: 0.8494 - val_loss: 0.3752 - val_acc: 0.8618\n"
          ],
          "name": "stdout"
        },
        {
          "output_type": "execute_result",
          "data": {
            "text/plain": [
              "<keras.callbacks.History at 0x143f314e0>"
            ]
          },
          "metadata": {
            "tags": []
          },
          "execution_count": 20
        }
      ]
    },
    {
      "metadata": {
        "id": "MvaE23Bjl5zc",
        "colab_type": "code",
        "colab": {},
        "outputId": "432d0bc7-e722-404d-ab80-963ea3374426"
      },
      "cell_type": "code",
      "source": [
        "# 86% test accuracy\n",
        "model.evaluate(x_test, y_test)"
      ],
      "execution_count": 0,
      "outputs": [
        {
          "output_type": "stream",
          "text": [
            "10000/10000 [==============================] - 1s 102us/step\n"
          ],
          "name": "stdout"
        },
        {
          "output_type": "execute_result",
          "data": {
            "text/plain": [
              "[0.37518016321659087, 0.8618]"
            ]
          },
          "metadata": {
            "tags": []
          },
          "execution_count": 21
        }
      ]
    },
    {
      "metadata": {
        "id": "l6_utPm0l5zf",
        "colab_type": "code",
        "colab": {}
      },
      "cell_type": "code",
      "source": [
        ""
      ],
      "execution_count": 0,
      "outputs": []
    },
    {
      "metadata": {
        "id": "B2dDMdcAl5zh",
        "colab_type": "code",
        "colab": {}
      },
      "cell_type": "code",
      "source": [
        ""
      ],
      "execution_count": 0,
      "outputs": []
    },
    {
      "metadata": {
        "id": "NBg7eo4al5zj",
        "colab_type": "code",
        "colab": {}
      },
      "cell_type": "code",
      "source": [
        "### Model 2"
      ],
      "execution_count": 0,
      "outputs": []
    },
    {
      "metadata": {
        "id": "vYodaccWl5zm",
        "colab_type": "code",
        "colab": {}
      },
      "cell_type": "code",
      "source": [
        "# more simple \n",
        "model2 = Sequential()\n",
        "\n",
        "model2.add(Conv2D(filters = 32, kernel_size=(3, 3), \n",
        "                 activation='relu', strides=(1, 1), \n",
        "                 padding='valid', input_shape=(28,28,1)))\n",
        "model2.add(MaxPooling2D(pool_size=(2, 2)))\n",
        "model2.add(Dropout(0.2))\n",
        "model2.add(Flatten())\n",
        "model2.add(Dense(128))\n",
        "model2.add(Dense(10, activation='softmax'))"
      ],
      "execution_count": 0,
      "outputs": []
    },
    {
      "metadata": {
        "id": "0Ov1m9mll5zo",
        "colab_type": "code",
        "colab": {}
      },
      "cell_type": "code",
      "source": [
        "model2.compile(optimizer='adadelta', loss='categorical_crossentropy', metrics=['accuracy'])"
      ],
      "execution_count": 0,
      "outputs": []
    },
    {
      "metadata": {
        "id": "G4RhjPk2l5zp",
        "colab_type": "code",
        "colab": {},
        "outputId": "cf64ca10-dd88-44fa-a0a6-1db33e7a42a6"
      },
      "cell_type": "code",
      "source": [
        "model2.fit(x_train, y_train, epochs=8, validation_data=(x_test, y_test))"
      ],
      "execution_count": 0,
      "outputs": [
        {
          "output_type": "stream",
          "text": [
            "Train on 60000 samples, validate on 10000 samples\n",
            "Epoch 1/8\n",
            "60000/60000 [==============================] - 24s 397us/step - loss: 0.4580 - acc: 0.8390 - val_loss: 0.3707 - val_acc: 0.8693\n",
            "Epoch 2/8\n",
            "60000/60000 [==============================] - 26s 435us/step - loss: 0.3313 - acc: 0.8839 - val_loss: 0.3389 - val_acc: 0.8808\n",
            "Epoch 3/8\n",
            "60000/60000 [==============================] - 27s 447us/step - loss: 0.3012 - acc: 0.8943 - val_loss: 0.3120 - val_acc: 0.8886\n",
            "Epoch 4/8\n",
            "60000/60000 [==============================] - 27s 447us/step - loss: 0.2832 - acc: 0.8998 - val_loss: 0.2992 - val_acc: 0.8954\n",
            "Epoch 5/8\n",
            "60000/60000 [==============================] - 25s 418us/step - loss: 0.2707 - acc: 0.9041 - val_loss: 0.2873 - val_acc: 0.8969\n",
            "Epoch 6/8\n",
            "60000/60000 [==============================] - 26s 430us/step - loss: 0.2595 - acc: 0.9092 - val_loss: 0.2865 - val_acc: 0.8994\n",
            "Epoch 7/8\n",
            "60000/60000 [==============================] - 26s 432us/step - loss: 0.2525 - acc: 0.9108 - val_loss: 0.2771 - val_acc: 0.9012\n",
            "Epoch 8/8\n",
            "60000/60000 [==============================] - 29s 482us/step - loss: 0.2461 - acc: 0.9111 - val_loss: 0.2806 - val_acc: 0.8989\n"
          ],
          "name": "stdout"
        },
        {
          "output_type": "execute_result",
          "data": {
            "text/plain": [
              "<keras.callbacks.History at 0x143fc1c50>"
            ]
          },
          "metadata": {
            "tags": []
          },
          "execution_count": 26
        }
      ]
    },
    {
      "metadata": {
        "id": "LykkQtT_l5zu",
        "colab_type": "code",
        "colab": {},
        "outputId": "7a8ec683-91e0-4634-e161-9adcbbfbb5ac"
      },
      "cell_type": "code",
      "source": [
        "# model2 has 89.89% accuracy\n",
        "model2.evaluate(x_test, y_test)"
      ],
      "execution_count": 0,
      "outputs": [
        {
          "output_type": "stream",
          "text": [
            "10000/10000 [==============================] - 1s 101us/step\n"
          ],
          "name": "stdout"
        },
        {
          "output_type": "execute_result",
          "data": {
            "text/plain": [
              "[0.28056134787797926, 0.8989]"
            ]
          },
          "metadata": {
            "tags": []
          },
          "execution_count": 27
        }
      ]
    },
    {
      "metadata": {
        "id": "cGqP0152l5zy",
        "colab_type": "code",
        "colab": {}
      },
      "cell_type": "code",
      "source": [
        "# test model3 -> padding='same' but the images dont seem to go right to edge anyways.. \n",
        "model3 = Sequential()\n",
        "\n",
        "model3.add(Conv2D(filters = 32, kernel_size=(3, 3), \n",
        "                 activation='relu', strides=(1, 1), \n",
        "                 padding='same', input_shape=(28,28,1)))\n",
        "model3.add(MaxPooling2D(pool_size=(2, 2)))\n",
        "model3.add(Dropout(0.2))\n",
        "model3.add(Flatten())\n",
        "model3.add(Dense(128))\n",
        "model3.add(Dense(10, activation='softmax'))"
      ],
      "execution_count": 0,
      "outputs": []
    },
    {
      "metadata": {
        "id": "gAF8GWNCl5zz",
        "colab_type": "code",
        "colab": {}
      },
      "cell_type": "code",
      "source": [
        "model3.compile(optimizer='adadelta', loss='categorical_crossentropy', metrics=['accuracy'])"
      ],
      "execution_count": 0,
      "outputs": []
    },
    {
      "metadata": {
        "id": "LORo7u_Jl5z2",
        "colab_type": "code",
        "colab": {},
        "outputId": "348f2ed0-f39a-425e-de51-e304e07b01b0"
      },
      "cell_type": "code",
      "source": [
        "model3.fit(x_train, y_train, epochs=8, validation_data=(x_test, y_test))"
      ],
      "execution_count": 0,
      "outputs": [
        {
          "output_type": "stream",
          "text": [
            "Train on 60000 samples, validate on 10000 samples\n",
            "Epoch 1/8\n",
            "60000/60000 [==============================] - 28s 460us/step - loss: 0.4489 - acc: 0.8430 - val_loss: 0.3578 - val_acc: 0.8690\n",
            "Epoch 2/8\n",
            "60000/60000 [==============================] - 29s 491us/step - loss: 0.3254 - acc: 0.8850 - val_loss: 0.3194 - val_acc: 0.8863\n",
            "Epoch 3/8\n",
            "60000/60000 [==============================] - 29s 478us/step - loss: 0.2947 - acc: 0.8965 - val_loss: 0.3078 - val_acc: 0.8912\n",
            "Epoch 4/8\n",
            "60000/60000 [==============================] - 29s 483us/step - loss: 0.2765 - acc: 0.9017 - val_loss: 0.3067 - val_acc: 0.8896\n",
            "Epoch 5/8\n",
            "60000/60000 [==============================] - 30s 499us/step - loss: 0.2648 - acc: 0.9060 - val_loss: 0.2981 - val_acc: 0.8924\n",
            "Epoch 6/8\n",
            "60000/60000 [==============================] - 29s 478us/step - loss: 0.2532 - acc: 0.9090 - val_loss: 0.2873 - val_acc: 0.8948\n",
            "Epoch 7/8\n",
            "60000/60000 [==============================] - 30s 500us/step - loss: 0.2471 - acc: 0.9134 - val_loss: 0.2874 - val_acc: 0.8954\n",
            "Epoch 8/8\n",
            "60000/60000 [==============================] - 30s 494us/step - loss: 0.2406 - acc: 0.9153 - val_loss: 0.2760 - val_acc: 0.9032\n"
          ],
          "name": "stdout"
        },
        {
          "output_type": "execute_result",
          "data": {
            "text/plain": [
              "<keras.callbacks.History at 0x143143a90>"
            ]
          },
          "metadata": {
            "tags": []
          },
          "execution_count": 43
        }
      ]
    },
    {
      "metadata": {
        "id": "TVBMMiL8l5z5",
        "colab_type": "code",
        "colab": {},
        "outputId": "6748bdda-288b-4c33-ee6e-e6f6f464c39b"
      },
      "cell_type": "code",
      "source": [
        "model3.evaluate(x_test, y_test)"
      ],
      "execution_count": 0,
      "outputs": [
        {
          "output_type": "stream",
          "text": [
            "10000/10000 [==============================] - 1s 111us/step\n"
          ],
          "name": "stdout"
        },
        {
          "output_type": "execute_result",
          "data": {
            "text/plain": [
              "[0.27598051676750185, 0.9032]"
            ]
          },
          "metadata": {
            "tags": []
          },
          "execution_count": 44
        }
      ]
    },
    {
      "metadata": {
        "id": "HAwk_dzUl5z_",
        "colab_type": "code",
        "colab": {}
      },
      "cell_type": "code",
      "source": [
        "# test model4 -> padding='valid' but change the kernel size\n",
        "model4 = Sequential()\n",
        "\n",
        "model4.add(Conv2D(filters = 32, kernel_size=(5,5), \n",
        "                 activation='relu', strides=(1, 1), \n",
        "                 padding='same', input_shape=(28,28,1)))\n",
        "model4.add(MaxPooling2D(pool_size=(2, 2)))\n",
        "model4.add(Dropout(0.2))\n",
        "model4.add(Flatten())\n",
        "model4.add(Dense(128))\n",
        "model4.add(Dense(10, activation='softmax'))"
      ],
      "execution_count": 0,
      "outputs": []
    },
    {
      "metadata": {
        "id": "3pDfz5Rdl50A",
        "colab_type": "code",
        "colab": {}
      },
      "cell_type": "code",
      "source": [
        "model4.compile(optimizer='adam', loss='categorical_crossentropy', metrics=['accuracy'])"
      ],
      "execution_count": 0,
      "outputs": []
    },
    {
      "metadata": {
        "id": "z8796HSol50C",
        "colab_type": "code",
        "colab": {},
        "outputId": "35a5ab6c-8981-4302-c005-98d8416b6a39"
      },
      "cell_type": "code",
      "source": [
        "model4.fit(x_train, y_train, epochs=6, validation_data=(x_test, y_test))"
      ],
      "execution_count": 0,
      "outputs": [
        {
          "output_type": "stream",
          "text": [
            "Train on 60000 samples, validate on 10000 samples\n",
            "Epoch 1/6\n",
            "60000/60000 [==============================] - 30s 504us/step - loss: 0.3911 - acc: 0.8610 - val_loss: 0.3355 - val_acc: 0.8821\n",
            "Epoch 2/6\n",
            "60000/60000 [==============================] - 32s 541us/step - loss: 0.2939 - acc: 0.8936 - val_loss: 0.3154 - val_acc: 0.8900\n",
            "Epoch 3/6\n",
            "60000/60000 [==============================] - 36s 605us/step - loss: 0.2651 - acc: 0.9039 - val_loss: 0.3252 - val_acc: 0.8857\n",
            "Epoch 4/6\n",
            "60000/60000 [==============================] - 32s 535us/step - loss: 0.2448 - acc: 0.9107 - val_loss: 0.2898 - val_acc: 0.8968\n",
            "Epoch 5/6\n",
            "60000/60000 [==============================] - 35s 586us/step - loss: 0.2335 - acc: 0.9143 - val_loss: 0.2836 - val_acc: 0.9000\n",
            "Epoch 6/6\n",
            "60000/60000 [==============================] - 32s 534us/step - loss: 0.2234 - acc: 0.9173 - val_loss: 0.2795 - val_acc: 0.9052\n"
          ],
          "name": "stdout"
        },
        {
          "output_type": "execute_result",
          "data": {
            "text/plain": [
              "<keras.callbacks.History at 0x143143080>"
            ]
          },
          "metadata": {
            "tags": []
          },
          "execution_count": 51
        }
      ]
    },
    {
      "metadata": {
        "id": "ub8bpUQZl50F",
        "colab_type": "code",
        "colab": {},
        "outputId": "5bab3f94-588e-409c-848d-6cef67d19155"
      },
      "cell_type": "code",
      "source": [
        "# adadelta\n",
        "model4.evaluate(x_test, y_test)"
      ],
      "execution_count": 0,
      "outputs": [
        {
          "output_type": "stream",
          "text": [
            "10000/10000 [==============================] - 2s 164us/step\n"
          ],
          "name": "stdout"
        },
        {
          "output_type": "execute_result",
          "data": {
            "text/plain": [
              "[0.27819047354459764, 0.9003]"
            ]
          },
          "metadata": {
            "tags": []
          },
          "execution_count": 48
        }
      ]
    },
    {
      "metadata": {
        "id": "7UMSMIull50H",
        "colab_type": "code",
        "colab": {},
        "outputId": "8d7af06f-d5c3-45f0-e073-04bd9ba04232"
      },
      "cell_type": "code",
      "source": [
        "# adam\n",
        "model4.evaluate(x_test, y_test)"
      ],
      "execution_count": 0,
      "outputs": [
        {
          "output_type": "stream",
          "text": [
            "10000/10000 [==============================] - 1s 149us/step\n"
          ],
          "name": "stdout"
        },
        {
          "output_type": "execute_result",
          "data": {
            "text/plain": [
              "[0.27947091865539553, 0.9052]"
            ]
          },
          "metadata": {
            "tags": []
          },
          "execution_count": 52
        }
      ]
    },
    {
      "metadata": {
        "id": "mVB3ldK9l50J",
        "colab_type": "code",
        "colab": {}
      },
      "cell_type": "code",
      "source": [
        "# sgd - worse!\n",
        "model4.compile(optimizer='sgd', loss='categorical_crossentropy', metrics=['accuracy'])"
      ],
      "execution_count": 0,
      "outputs": []
    },
    {
      "metadata": {
        "id": "UtwDYtYdl50K",
        "colab_type": "code",
        "colab": {},
        "outputId": "5bbf9908-bcef-4162-94da-45cec5c4da1c"
      },
      "cell_type": "code",
      "source": [
        ""
      ],
      "execution_count": 0,
      "outputs": [
        {
          "output_type": "stream",
          "text": [
            "Train on 60000 samples, validate on 10000 samples\n",
            "Epoch 1/6\n",
            "60000/60000 [==============================] - 28s 470us/step - loss: 0.6633 - acc: 0.7664 - val_loss: 0.5071 - val_acc: 0.8199\n",
            "Epoch 2/6\n",
            "60000/60000 [==============================] - 30s 503us/step - loss: 0.4569 - acc: 0.8384 - val_loss: 0.4428 - val_acc: 0.8407\n",
            "Epoch 3/6\n",
            "60000/60000 [==============================] - 31s 518us/step - loss: 0.4080 - acc: 0.8576 - val_loss: 0.4061 - val_acc: 0.8555\n",
            "Epoch 4/6\n",
            "60000/60000 [==============================] - 32s 535us/step - loss: 0.3798 - acc: 0.8667 - val_loss: 0.3888 - val_acc: 0.8607\n",
            "Epoch 5/6\n",
            "60000/60000 [==============================] - 30s 497us/step - loss: 0.3588 - acc: 0.8744 - val_loss: 0.3633 - val_acc: 0.8716\n",
            "Epoch 6/6\n",
            "60000/60000 [==============================] - 34s 559us/step - loss: 0.3427 - acc: 0.8797 - val_loss: 0.3426 - val_acc: 0.8807\n"
          ],
          "name": "stdout"
        },
        {
          "output_type": "execute_result",
          "data": {
            "text/plain": [
              "<keras.callbacks.History at 0x13a0bc550>"
            ]
          },
          "metadata": {
            "tags": []
          },
          "execution_count": 57
        }
      ]
    },
    {
      "metadata": {
        "id": "43YZoeUil50O",
        "colab_type": "code",
        "colab": {}
      },
      "cell_type": "code",
      "source": [
        ""
      ],
      "execution_count": 0,
      "outputs": []
    },
    {
      "metadata": {
        "collapsed": true,
        "id": "uA8YdS64l50T",
        "colab_type": "text"
      },
      "cell_type": "markdown",
      "source": [
        "#### 2.2:  Transfer Learning\n",
        "Repeat the same task, but this time utilize a pre-trained network for the majority of your model. You should only train the final Dense layer, all other weights should be fixed. You can use whichever pre-trained backbone you like (ResNet, VGG, etc). Report on your model’s performance on training set and test set."
      ]
    },
    {
      "metadata": {
        "id": "R8IF-6W8l50T",
        "colab_type": "code",
        "colab": {}
      },
      "cell_type": "code",
      "source": [
        "# ref: https://medium.com/@sidereal/cnns-architectures-lenet-alexnet-vgg-googlenet-resnet-and-more-666091488df5"
      ],
      "execution_count": 0,
      "outputs": []
    },
    {
      "metadata": {
        "id": "MNCxeiJml50V",
        "colab_type": "code",
        "colab": {}
      },
      "cell_type": "code",
      "source": [
        "# resize images\n",
        "import cv2\n",
        "x_train_big = np.asarray([cv2.resize(x, (48,48)) for x in x_train])\n",
        "x_test_big  = np.asarray([cv2.resize(x, (48,48)) for x in x_test])\n",
        "# plt.imshow(x_train_big[9], 'gray')"
      ],
      "execution_count": 0,
      "outputs": []
    },
    {
      "metadata": {
        "id": "ELRCLzopl50X",
        "colab_type": "code",
        "colab": {}
      },
      "cell_type": "code",
      "source": [
        "# reshape \n",
        "x_train_big = x_train_big.reshape(x_train_big.shape[0], 48, 48,1)\n",
        "x_test_big  = x_test_big.reshape(x_test_big.shape[0], 48, 48, 1)\n",
        "\n",
        "# make gray images into rgb images\n",
        "x_train_big = x_train_big.repeat(3, axis=-1)\n",
        "x_test_big  = x_test_big.repeat(3, axis=-1)"
      ],
      "execution_count": 0,
      "outputs": []
    },
    {
      "metadata": {
        "id": "u5i_hEtTmx4w",
        "colab_type": "code",
        "colab": {
          "base_uri": "https://localhost:8080/",
          "height": 34
        },
        "outputId": "9d62e325-9196-4fbc-fa36-0262062af3a0"
      },
      "cell_type": "code",
      "source": [
        "x_test_big.shape"
      ],
      "execution_count": 13,
      "outputs": [
        {
          "output_type": "execute_result",
          "data": {
            "text/plain": [
              "(10000, 48, 48, 3)"
            ]
          },
          "metadata": {
            "tags": []
          },
          "execution_count": 13
        }
      ]
    },
    {
      "metadata": {
        "id": "OKBdbpYll50a",
        "colab_type": "code",
        "colab": {}
      },
      "cell_type": "code",
      "source": [
        "# prep VGG backbone\n",
        "from keras.applications import VGG16\n",
        "conv_base = VGG16(weights=\"imagenet\", include_top=False, input_shape=(48,48,3))"
      ],
      "execution_count": 0,
      "outputs": []
    },
    {
      "metadata": {
        "id": "EB9EFaUfl50b",
        "colab_type": "code",
        "colab": {}
      },
      "cell_type": "code",
      "source": [
        "# define model\n",
        "model = Sequential()\n",
        "model.add(conv_base)\n",
        "model.add(Flatten())\n",
        "model.add(Dense(256, activation=\"relu\"))\n",
        "model.add(Dense(10, activation=\"softmax\"))"
      ],
      "execution_count": 0,
      "outputs": []
    },
    {
      "metadata": {
        "id": "pQ2Cp8Uwl50d",
        "colab_type": "code",
        "colab": {
          "base_uri": "https://localhost:8080/",
          "height": 272
        },
        "outputId": "1ec48f09-5174-4b60-b3c3-f07b6995d3c9"
      },
      "cell_type": "code",
      "source": [
        "# freeze weights so that we only train the final layers\n",
        "conv_base.trainable = False\n",
        "model.summary()"
      ],
      "execution_count": 16,
      "outputs": [
        {
          "output_type": "stream",
          "text": [
            "_________________________________________________________________\n",
            "Layer (type)                 Output Shape              Param #   \n",
            "=================================================================\n",
            "vgg16 (Model)                (None, 1, 1, 512)         14714688  \n",
            "_________________________________________________________________\n",
            "flatten_1 (Flatten)          (None, 512)               0         \n",
            "_________________________________________________________________\n",
            "dense_1 (Dense)              (None, 256)               131328    \n",
            "_________________________________________________________________\n",
            "dense_2 (Dense)              (None, 10)                2570      \n",
            "=================================================================\n",
            "Total params: 14,848,586\n",
            "Trainable params: 133,898\n",
            "Non-trainable params: 14,714,688\n",
            "_________________________________________________________________\n"
          ],
          "name": "stdout"
        }
      ]
    },
    {
      "metadata": {
        "id": "gQpbhjyQl50g",
        "colab_type": "code",
        "colab": {}
      },
      "cell_type": "code",
      "source": [
        "model.compile(loss=\"categorical_crossentropy\", optimizer='adam', metrics=[\"acc\"])"
      ],
      "execution_count": 0,
      "outputs": []
    },
    {
      "metadata": {
        "id": "iyWbfBTKl50h",
        "colab_type": "code",
        "colab": {
          "base_uri": "https://localhost:8080/",
          "height": 221
        },
        "outputId": "2bec79a7-a056-49db-d633-ba8b33c0a9fa"
      },
      "cell_type": "code",
      "source": [
        "model.fit(x_train_big, \n",
        "          y_train,\n",
        "          batch_size=32,\n",
        "          shuffle=True,\n",
        "          epochs=5, \n",
        "          validation_data=(x_test_big, y_test))"
      ],
      "execution_count": 18,
      "outputs": [
        {
          "output_type": "stream",
          "text": [
            "Train on 60000 samples, validate on 10000 samples\n",
            "Epoch 1/5\n",
            "60000/60000 [==============================] - 66s 1ms/step - loss: 0.4817 - acc: 0.8278 - val_loss: 0.4037 - val_acc: 0.8555\n",
            "Epoch 2/5\n",
            "60000/60000 [==============================] - 65s 1ms/step - loss: 0.3701 - acc: 0.8646 - val_loss: 0.3904 - val_acc: 0.8596\n",
            "Epoch 3/5\n",
            "60000/60000 [==============================] - 65s 1ms/step - loss: 0.3349 - acc: 0.8764 - val_loss: 0.3629 - val_acc: 0.8678\n",
            "Epoch 4/5\n",
            "60000/60000 [==============================] - 65s 1ms/step - loss: 0.3110 - acc: 0.8852 - val_loss: 0.3552 - val_acc: 0.8717\n",
            "Epoch 5/5\n",
            "60000/60000 [==============================] - 65s 1ms/step - loss: 0.2913 - acc: 0.8911 - val_loss: 0.3820 - val_acc: 0.8655\n"
          ],
          "name": "stdout"
        },
        {
          "output_type": "execute_result",
          "data": {
            "text/plain": [
              "<keras.callbacks.History at 0x7fa31c4d8550>"
            ]
          },
          "metadata": {
            "tags": []
          },
          "execution_count": 18
        }
      ]
    },
    {
      "metadata": {
        "id": "sWmdeOell50m",
        "colab_type": "text"
      },
      "cell_type": "markdown",
      "source": [
        "### Problem 3: Text Classification"
      ]
    },
    {
      "metadata": {
        "id": "NeXR-wI9l50m",
        "colab_type": "text"
      },
      "cell_type": "markdown",
      "source": [
        "While images contain local spatial correlations and structure, many other datasets contain temporal correlations. Examples include time series and discrete se- quences such as text. In this problem, we will tackle the task of text classification in the context of cybersecurity.\n",
        "\n",
        "**Background:**   \n",
        "When malware infects a host computer, it often needs to reach out to an outside server for further instructions or to download additional payloads. This outside server is called a Command-and-Control server (C2). The malware needs to send a specific communication to the C2 server, thus the C2 server needs to have a registered IP address or associated web domain so that it can be reached. Therefore, being able to identify web domains that are likely related to malware C2 can be a valuable cyber defense.\n",
        "\n",
        "**Dataset:**    \n",
        "\n",
        "Fortunately, security researchers have already identified and logged a large number of malicious URLs. Additionally, we can catalog common ”be- nign” URLs just from typical web behavior (these would include things like facebook.com and amazon.com). Hence, we have a labeled dataset for text classification which can be downloaded here:\n",
        "-  https://s3.amazonaws.com/anly-590/url-classification/benign-urls.txt\n",
        "- https://s3.amazonaws.com/anly-590/url-classification/malicious-urls.txt"
      ]
    },
    {
      "metadata": {
        "id": "w_gCaOL2l50n",
        "colab_type": "text"
      },
      "cell_type": "markdown",
      "source": [
        "#### 3.1: RNN\n",
        "Build and train a Recurrent Neural Network to solve this text classification task. You can use any type of RNN you wish (SimpleRNN, GRU, LSTM)."
      ]
    },
    {
      "metadata": {
        "collapsed": true,
        "id": "x01d_9CHl50n",
        "colab_type": "code",
        "colab": {}
      },
      "cell_type": "code",
      "source": [
        ""
      ],
      "execution_count": 0,
      "outputs": []
    },
    {
      "metadata": {
        "collapsed": true,
        "id": "gIMxhWqel50o",
        "colab_type": "code",
        "colab": {}
      },
      "cell_type": "code",
      "source": [
        ""
      ],
      "execution_count": 0,
      "outputs": []
    },
    {
      "metadata": {
        "collapsed": true,
        "id": "HL1T5WpKl50q",
        "colab_type": "code",
        "colab": {}
      },
      "cell_type": "code",
      "source": [
        ""
      ],
      "execution_count": 0,
      "outputs": []
    },
    {
      "metadata": {
        "collapsed": true,
        "id": "631NqN8Zl50s",
        "colab_type": "code",
        "colab": {}
      },
      "cell_type": "code",
      "source": [
        ""
      ],
      "execution_count": 0,
      "outputs": []
    },
    {
      "metadata": {
        "id": "fLChG-3Cl50u",
        "colab_type": "text"
      },
      "cell_type": "markdown",
      "source": [
        "#### 3.2: CNN\n",
        "Build and train a 1D CNN for this text classification task. You might gain some insight and inspiration from these text classification approaches:\n",
        "-  http://www.aclweb.org/anthology/D14-1181 \n",
        "-  https://arxiv.org/abs/1702.08568"
      ]
    },
    {
      "metadata": {
        "collapsed": true,
        "id": "pvVlROFxl50u",
        "colab_type": "code",
        "colab": {}
      },
      "cell_type": "code",
      "source": [
        ""
      ],
      "execution_count": 0,
      "outputs": []
    },
    {
      "metadata": {
        "collapsed": true,
        "id": "lb-MARw_l50y",
        "colab_type": "code",
        "colab": {}
      },
      "cell_type": "code",
      "source": [
        ""
      ],
      "execution_count": 0,
      "outputs": []
    },
    {
      "metadata": {
        "collapsed": true,
        "id": "HdS1NUEpl500",
        "colab_type": "code",
        "colab": {}
      },
      "cell_type": "code",
      "source": [
        ""
      ],
      "execution_count": 0,
      "outputs": []
    },
    {
      "metadata": {
        "collapsed": true,
        "id": "JdwAOqCql501",
        "colab_type": "code",
        "colab": {}
      },
      "cell_type": "code",
      "source": [
        ""
      ],
      "execution_count": 0,
      "outputs": []
    }
  ]
}