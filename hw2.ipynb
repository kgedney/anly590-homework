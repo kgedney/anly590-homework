{
 "cells": [
  {
   "cell_type": "markdown",
   "metadata": {
    "colab_type": "text",
    "id": "3TPfEY2kl5yk"
   },
   "source": [
    "***"
   ]
  },
  {
   "cell_type": "markdown",
   "metadata": {
    "colab_type": "text",
    "id": "D1S2fmV3l5ym"
   },
   "source": [
    "<center>\n",
    " \n",
    "### ANLY 590 | Homework 2\n",
    "### Kendra Gedney | kg729@georgetown.edu \n",
    "\n",
    "<center>"
   ]
  },
  {
   "cell_type": "code",
   "execution_count": 1,
   "metadata": {
    "colab": {},
    "colab_type": "code",
    "collapsed": true,
    "id": "IV-8lfHel5ym"
   },
   "outputs": [],
   "source": [
    "# set working directory\n",
    "import os\n",
    "path = '/Users/kgedney/Documents/georgetown/anly590/anly590-homework'\n",
    "os.chdir(path)"
   ]
  },
  {
   "cell_type": "code",
   "execution_count": 2,
   "metadata": {
    "colab": {},
    "colab_type": "code",
    "id": "Kiwmt_4ml5yq"
   },
   "outputs": [
    {
     "name": "stderr",
     "output_type": "stream",
     "text": [
      "/Users/kgedney/anaconda/lib/python3.6/site-packages/h5py/__init__.py:34: FutureWarning: Conversion of the second argument of issubdtype from `float` to `np.floating` is deprecated. In future, it will be treated as `np.float64 == np.dtype(float).type`.\n",
      "  from ._conv import register_converters as _register_converters\n"
     ]
    }
   ],
   "source": [
    "# prep\n",
    "import numpy as np\n",
    "import pandas as pd\n",
    "import tensorflow as tf\n",
    "\n",
    "import matplotlib.pyplot as plt\n",
    "%matplotlib inline"
   ]
  },
  {
   "cell_type": "markdown",
   "metadata": {
    "colab_type": "text",
    "id": "q3siX28ql5yt"
   },
   "source": [
    "### Problem 1: Autoencoder"
   ]
  },
  {
   "cell_type": "markdown",
   "metadata": {
    "colab_type": "text",
    "collapsed": true,
    "id": "QQN9geCOl5yv"
   },
   "source": [
    "A convolutional autoencoder is a particular flavor of autoencoder where we use convolutional layers instead of dense layers. We have previously applied autoencoders to images using only Dense layers and the result worked fairly well. However, the local spatial correlations of images imply that we should be able to do better using convolutional layers instead of Dense layers.   \n",
    "   \n",
    "Build and fit a convolutional autoencoder for the Fashion MNIST dataset. The components of this network will be many of the same pieces we’ve used with convolutional classification networks: Conv2D, MaxPooling, and so on. The encoder part of the network should run the input image through a few convolutional layers of your choice. The decoder part of the network will utilize UpSampling2D to get the representation back to the original image size.   \n",
    "\n",
    "An example to guide your thinking can be found toward the bottom of this post https://blog.keras.io/building-autoencoders-in-keras.html.\n",
    "   \n",
    "After training your network, visualize some examples of input images and their decoded reconstruction.\n"
   ]
  },
  {
   "cell_type": "markdown",
   "metadata": {
    "colab_type": "text",
    "id": "20zQZ7hul5yu"
   },
   "source": [
    "_For this problem, I used the same network as in the keras blog post about autoencoders. I used a MSE loss function with the Adadelta optimizer. The results were okay -- most of the autoencoded images are recognizable. The differences between Ankle Boot, Sandal and Sneaker are slight._ "
   ]
  },
  {
   "cell_type": "markdown",
   "metadata": {
    "colab_type": "text",
    "id": "9nijAMokHCKL"
   },
   "source": [
    "#### Prep Fashion MNIST dataset"
   ]
  },
  {
   "cell_type": "code",
   "execution_count": 3,
   "metadata": {
    "colab": {},
    "colab_type": "code",
    "id": "hlbCyRuRl5yv"
   },
   "outputs": [
    {
     "name": "stderr",
     "output_type": "stream",
     "text": [
      "Using TensorFlow backend.\n"
     ]
    }
   ],
   "source": [
    "# prep\n",
    "from keras.utils import np_utils\n",
    "\n",
    "from keras.layers import Input, Dense\n",
    "from keras.models import Model, Sequential\n",
    "from keras.layers.core import Dense, Dropout, Activation, Flatten, Reshape\n",
    "from keras.layers.convolutional import Conv2D, MaxPooling2D, ZeroPadding2D, AveragePooling2D, UpSampling2D"
   ]
  },
  {
   "cell_type": "code",
   "execution_count": 3,
   "metadata": {
    "colab": {
     "base_uri": "https://localhost:8080/",
     "height": 153
    },
    "colab_type": "code",
    "id": "u0ZEK8Ewl5yy",
    "outputId": "36a858de-7fa8-4ad3-fa77-60110e580a21"
   },
   "outputs": [
    {
     "name": "stdout",
     "output_type": "stream",
     "text": [
      "Downloading data from https://storage.googleapis.com/tensorflow/tf-keras-datasets/train-labels-idx1-ubyte.gz\n",
      "32768/29515 [=================================] - 0s 0us/step\n",
      "Downloading data from https://storage.googleapis.com/tensorflow/tf-keras-datasets/train-images-idx3-ubyte.gz\n",
      "26427392/26421880 [==============================] - 0s 0us/step\n",
      "Downloading data from https://storage.googleapis.com/tensorflow/tf-keras-datasets/t10k-labels-idx1-ubyte.gz\n",
      "8192/5148 [===============================================] - 0s 0us/step\n",
      "Downloading data from https://storage.googleapis.com/tensorflow/tf-keras-datasets/t10k-images-idx3-ubyte.gz\n",
      "4423680/4422102 [==============================] - 0s 0us/step\n"
     ]
    }
   ],
   "source": [
    "# load data\n",
    "(x_train, y_train), (x_test, y_test) = tf.keras.datasets.fashion_mnist.load_data()"
   ]
  },
  {
   "cell_type": "code",
   "execution_count": 4,
   "metadata": {
    "colab": {
     "base_uri": "https://localhost:8080/",
     "height": 85
    },
    "colab_type": "code",
    "id": "owswbMDbl5y0",
    "outputId": "dc312848-6312-4725-ce3b-e2daa8ff9b05"
   },
   "outputs": [
    {
     "name": "stdout",
     "output_type": "stream",
     "text": [
      "(60000, 28, 28)\n",
      "(60000,)\n",
      "(10000, 28, 28)\n",
      "(10000,)\n"
     ]
    }
   ],
   "source": [
    "# check shapes\n",
    "print(x_train.shape)\n",
    "print(y_train.shape)\n",
    "print(x_test.shape)\n",
    "print(y_test.shape)"
   ]
  },
  {
   "cell_type": "code",
   "execution_count": 5,
   "metadata": {
    "colab": {
     "base_uri": "https://localhost:8080/",
     "height": 51
    },
    "colab_type": "code",
    "id": "ktqTJts6l5y6",
    "outputId": "5a3d6798-2251-4ba4-c250-5a12081e5095"
   },
   "outputs": [
    {
     "name": "stdout",
     "output_type": "stream",
     "text": [
      "(60000, 28, 28, 1)\n",
      "(10000, 28, 28, 1)\n"
     ]
    }
   ],
   "source": [
    "# normalize grayscale\n",
    "x_train = x_train.astype('float32') / 255.\n",
    "x_test  = x_test.astype('float32') / 255.\n",
    "\n",
    "# reshape images\n",
    "x_train = x_train.reshape(x_train.shape[0], 28, 28, 1)\n",
    "x_test  = x_test.reshape(x_test.shape[0], 28, 28, 1)\n",
    "\n",
    "print(x_train.shape)\n",
    "print(x_test.shape)"
   ]
  },
  {
   "cell_type": "code",
   "execution_count": 0,
   "metadata": {
    "colab": {},
    "colab_type": "code",
    "collapsed": true,
    "id": "lmc-Ielcl5y8"
   },
   "outputs": [],
   "source": [
    "# 10 classes of clothing types - make categorical\n",
    "y_train = np_utils.to_categorical(y_train, 10)\n",
    "y_test = np_utils.to_categorical(y_test, 10)"
   ]
  },
  {
   "cell_type": "markdown",
   "metadata": {
    "colab_type": "text",
    "id": "jV1zlQgqHCKb"
   },
   "source": [
    "#### Define and Train Autoencoder Network"
   ]
  },
  {
   "cell_type": "code",
   "execution_count": 0,
   "metadata": {
    "colab": {},
    "colab_type": "code",
    "collapsed": true,
    "id": "fiKpdqJ3l5y_"
   },
   "outputs": [],
   "source": [
    "# copy network from blog post\n",
    "input_img = Input(shape=(28, 28, 1))\n",
    "\n",
    "x = Conv2D(16, (3, 3), activation='relu', padding='same')(input_img)\n",
    "x = MaxPooling2D((2, 2), padding='same')(x)\n",
    "x = Conv2D(8, (3, 3), activation='relu', padding='same')(x)\n",
    "x = MaxPooling2D((2, 2), padding='same')(x)\n",
    "x = Conv2D(8, (3, 3), activation='relu', padding='same')(x)\n",
    "encoded = MaxPooling2D((2, 2), padding='same')(x)\n",
    "\n",
    "# at this point the representation is (4, 4, 8) i.e. 128-dimensional\n",
    "\n",
    "x = Conv2D(8, (3, 3), activation='relu', padding='same')(encoded)\n",
    "x = UpSampling2D((2, 2))(x)\n",
    "x = Conv2D(8, (3, 3), activation='relu', padding='same')(x)\n",
    "x = UpSampling2D((2, 2))(x)\n",
    "x = Conv2D(16, (3, 3), activation='relu')(x)\n",
    "x = UpSampling2D((2, 2))(x)\n",
    "decoded = Conv2D(1, (3, 3), activation='sigmoid', padding='same')(x)\n",
    "\n",
    "autoencoder = Model(input_img, decoded)\n",
    "autoencoder.compile(optimizer='adadelta', loss='mse')"
   ]
  },
  {
   "cell_type": "code",
   "execution_count": 0,
   "metadata": {
    "colab": {
     "base_uri": "https://localhost:8080/",
     "height": 221
    },
    "colab_type": "code",
    "id": "xmQD4fc2l5zD",
    "outputId": "0886294e-e59d-442b-f535-8e7d154c6bfb"
   },
   "outputs": [
    {
     "name": "stdout",
     "output_type": "stream",
     "text": [
      "Train on 60000 samples, validate on 10000 samples\n",
      "Epoch 1/5\n",
      "60000/60000 [==============================] - 58s 961us/step - loss: 0.0355 - val_loss: 0.0285\n",
      "Epoch 2/5\n",
      "60000/60000 [==============================] - 58s 971us/step - loss: 0.0280 - val_loss: 0.0277\n",
      "Epoch 3/5\n",
      "60000/60000 [==============================] - 59s 980us/step - loss: 0.0248 - val_loss: 0.0230\n",
      "Epoch 4/5\n",
      "60000/60000 [==============================] - 58s 968us/step - loss: 0.0231 - val_loss: 0.0224\n",
      "Epoch 5/5\n",
      "60000/60000 [==============================] - 58s 965us/step - loss: 0.0221 - val_loss: 0.0226\n"
     ]
    },
    {
     "data": {
      "text/plain": [
       "<keras.callbacks.History at 0x1363a3710>"
      ]
     },
     "execution_count": 57,
     "metadata": {
      "tags": []
     },
     "output_type": "execute_result"
    }
   ],
   "source": [
    "# train network\n",
    "autoencoder.fit(x_train, x_train,\n",
    "                epochs=5,\n",
    "                batch_size=128,\n",
    "                shuffle=True,\n",
    "                validation_data=(x_test, x_test))"
   ]
  },
  {
   "cell_type": "markdown",
   "metadata": {
    "colab_type": "text",
    "id": "or23jQYBHCKi"
   },
   "source": [
    "#### Visualize Results"
   ]
  },
  {
   "cell_type": "code",
   "execution_count": 0,
   "metadata": {
    "colab": {
     "base_uri": "https://localhost:8080/",
     "height": 263
    },
    "colab_type": "code",
    "id": "0buf9iA1l5zI",
    "outputId": "3fe6090c-75ae-4791-f54b-e70559521933",
    "scrolled": true
   },
   "outputs": [
    {
     "data": {
      "image/png": "[encoded data removed]",
      "text/plain": [
       "<matplotlib.figure.Figure at 0x1363c29e8>"
      ]
     },
     "metadata": {
      "tags": []
     },
     "output_type": "display_data"
    }
   ],
   "source": [
    "# visualize images before and after decoding\n",
    "plt.figure(figsize=(20, 4))\n",
    "\n",
    "n=10\n",
    "for k in range(n):\n",
    "    ax = plt.subplot(2, n, k+1)\n",
    "    plt.imshow(x_test[k:k+1,:].reshape((28,28)), \"gray\")\n",
    "    ax = plt.subplot(2, n, k+1 + n)\n",
    "    reconstruction = autoencoder.predict(x_test[k:k+1,:])\n",
    "    reconstruction.resize((28,28))\n",
    "    plt.imshow(reconstruction, \"gray\")"
   ]
  },
  {
   "cell_type": "markdown",
   "metadata": {
    "colab_type": "text",
    "id": "0uTjJrZsl5zL"
   },
   "source": [
    "### Problem 2: Image Classification"
   ]
  },
  {
   "cell_type": "markdown",
   "metadata": {
    "colab_type": "text",
    "collapsed": true,
    "id": "sZG5NOWAl5zM"
   },
   "source": [
    "#### 2.1: Deep CNN\n",
    "Build a deep CNN to classify the images. Provide a brief description of the architectural choices you’ve made: kernel sizes, strides, padding, network depth. Train your network end-to-end. Report on your model’s performance on training set and test set.\n"
   ]
  },
  {
   "cell_type": "markdown",
   "metadata": {
    "colab": {},
    "colab_type": "code",
    "id": "_-u30lqIl5zM"
   },
   "source": [
    "_The best model I fit achieved 92.39% test accuracy (and 96.02% training accuracy)after 16 epochs. It has two convolutional layers each with: 128 filters, kernel size = (3,3), stride=1, padding='valid, adam optimizer and dropout (0.5)._\n",
    "\n",
    "_I tested lesser filter sizes, but 128 performed the best. I also tested a kernel size =(5,5) but performance was the same so I left it at (3,3) since it is less computationally expensive. The adam optimizer performed slightly better than sgd and adadelta. Performace was the same with padding so left it as is._ \n",
    "\n",
    "_I first fit networks with one convolutional layer, with accuracy around 89-90%, but then added a second layer which improved accuracy up to 92%. Adding the dense layer of size 512 at the end of the model also led to some modest gains._\n"
   ]
  },
  {
   "cell_type": "code",
   "execution_count": 0,
   "metadata": {
    "colab": {},
    "colab_type": "code",
    "collapsed": true,
    "id": "tlNoXtDuHCKr"
   },
   "outputs": [],
   "source": [
    "# define model\n",
    "model_a = Sequential()\n",
    "\n",
    "model_a.add(Conv2D(\n",
    "    filters=128,\n",
    "    kernel_size=(3, 3), \n",
    "    activation='relu',\n",
    "    strides=(1, 1),\n",
    "    padding='valid',\n",
    "    input_shape=(28,28,1)))\n",
    "\n",
    "model_a.add(MaxPooling2D(pool_size=(2, 2)))\n",
    "\n",
    "model_a.add(Conv2D(\n",
    "    filters=128,\n",
    "    kernel_size=(3, 3), \n",
    "    activation='relu',\n",
    "    strides=(1, 1),\n",
    "    padding='valid'))\n",
    "\n",
    "model_a.add(MaxPooling2D(pool_size=(2, 2)))\n",
    "\n",
    "model_a.add(Dropout(0.5))\n",
    "model_a.add(Flatten())\n",
    "model_a.add(Dense(512, activation='relu'))\n",
    "model_a.add(Dropout(0.5))\n",
    "model_a.add(Dense(10, activation='softmax'))"
   ]
  },
  {
   "cell_type": "code",
   "execution_count": 0,
   "metadata": {
    "colab": {},
    "colab_type": "code",
    "collapsed": true,
    "id": "7yNIPOOHHCKt"
   },
   "outputs": [],
   "source": [
    "model_a.compile(optimizer='adam', loss='categorical_crossentropy', metrics=['accuracy'])"
   ]
  },
  {
   "cell_type": "code",
   "execution_count": 14,
   "metadata": {
    "colab": {
     "base_uri": "https://localhost:8080/",
     "height": 578
    },
    "colab_type": "code",
    "id": "14RG_ZpzHCKx",
    "outputId": "2e73caee-9219-4476-e6dc-1cb4f7e0552c"
   },
   "outputs": [
    {
     "name": "stdout",
     "output_type": "stream",
     "text": [
      "Train on 60000 samples, validate on 10000 samples\n",
      "Epoch 1/16\n",
      "60000/60000 [==============================] - 10s 165us/step - loss: 0.5936 - acc: 0.7821 - val_loss: 0.4063 - val_acc: 0.8502\n",
      "Epoch 2/16\n",
      "60000/60000 [==============================] - 9s 156us/step - loss: 0.3800 - acc: 0.8623 - val_loss: 0.3437 - val_acc: 0.8727\n",
      "Epoch 3/16\n",
      "60000/60000 [==============================] - 9s 156us/step - loss: 0.3257 - acc: 0.8806 - val_loss: 0.3090 - val_acc: 0.8870\n",
      "Epoch 4/16\n",
      "60000/60000 [==============================] - 9s 155us/step - loss: 0.2998 - acc: 0.8902 - val_loss: 0.2785 - val_acc: 0.8991\n",
      "Epoch 5/16\n",
      "60000/60000 [==============================] - 9s 156us/step - loss: 0.2799 - acc: 0.8971 - val_loss: 0.2641 - val_acc: 0.9021\n",
      "Epoch 6/16\n",
      "60000/60000 [==============================] - 9s 155us/step - loss: 0.2619 - acc: 0.9022 - val_loss: 0.2565 - val_acc: 0.9058\n",
      "Epoch 7/16\n",
      "60000/60000 [==============================] - 9s 155us/step - loss: 0.2486 - acc: 0.9077 - val_loss: 0.2498 - val_acc: 0.9084\n",
      "Epoch 8/16\n",
      "60000/60000 [==============================] - 9s 156us/step - loss: 0.2394 - acc: 0.9095 - val_loss: 0.2450 - val_acc: 0.9118\n",
      "Epoch 9/16\n",
      "60000/60000 [==============================] - 9s 155us/step - loss: 0.2281 - acc: 0.9149 - val_loss: 0.2455 - val_acc: 0.9087\n",
      "Epoch 10/16\n",
      "60000/60000 [==============================] - 9s 155us/step - loss: 0.2183 - acc: 0.9183 - val_loss: 0.2290 - val_acc: 0.9152\n",
      "Epoch 11/16\n",
      "60000/60000 [==============================] - 9s 156us/step - loss: 0.2100 - acc: 0.9211 - val_loss: 0.2234 - val_acc: 0.9182\n",
      "Epoch 12/16\n",
      "60000/60000 [==============================] - 9s 155us/step - loss: 0.1999 - acc: 0.9251 - val_loss: 0.2232 - val_acc: 0.9174\n",
      "Epoch 13/16\n",
      "60000/60000 [==============================] - 9s 155us/step - loss: 0.1938 - acc: 0.9268 - val_loss: 0.2386 - val_acc: 0.9101\n",
      "Epoch 14/16\n",
      "60000/60000 [==============================] - 9s 156us/step - loss: 0.1859 - acc: 0.9302 - val_loss: 0.2291 - val_acc: 0.9180\n",
      "Epoch 15/16\n",
      "60000/60000 [==============================] - 9s 154us/step - loss: 0.1813 - acc: 0.9322 - val_loss: 0.2208 - val_acc: 0.9219\n",
      "Epoch 16/16\n",
      "60000/60000 [==============================] - 9s 155us/step - loss: 0.1745 - acc: 0.9331 - val_loss: 0.2177 - val_acc: 0.9239\n"
     ]
    }
   ],
   "source": [
    "# fit (ran on google colab, takes about 3 mins)\n",
    "history_a = model_a.fit(x_train, y_train, batch_size=256, epochs=16, validation_data=(x_test, y_test))"
   ]
  },
  {
   "cell_type": "code",
   "execution_count": 15,
   "metadata": {
    "colab": {
     "base_uri": "https://localhost:8080/",
     "height": 85
    },
    "colab_type": "code",
    "id": "S6jA0MWRHCK1",
    "outputId": "7c68722c-25cf-455e-88b6-d2729ca3300f"
   },
   "outputs": [
    {
     "name": "stdout",
     "output_type": "stream",
     "text": [
      "10000/10000 [==============================] - 1s 143us/step\n",
      "[0.21772897923588752, 0.9239]\n",
      "60000/60000 [==============================] - 8s 139us/step\n",
      "[0.11143724941834808, 0.9601833333333334]\n"
     ]
    }
   ],
   "source": [
    "print(model_a.evaluate(x_test, y_test))\n",
    "print(model_a.evaluate(x_train, y_train))"
   ]
  },
  {
   "cell_type": "code",
   "execution_count": 0,
   "metadata": {
    "colab": {},
    "colab_type": "code",
    "collapsed": true,
    "id": "MsI7DCYTHCK2"
   },
   "outputs": [],
   "source": [
    "# check confusion matrix\n",
    "test_preds      = model_a.predict(x_test, verbose=True, batch_size=512)\n",
    "test_pred_class = test_preds.argmax(axis=-1)\n",
    "y_test_class    = y_test.argmax(axis=-1)\n",
    "\n",
    "pd.crosstab(y_test_class, test_pred_class)"
   ]
  },
  {
   "cell_type": "markdown",
   "metadata": {
    "colab_type": "text",
    "collapsed": true,
    "id": "uA8YdS64l50T"
   },
   "source": [
    "#### 2.2:  Transfer Learning\n",
    "Repeat the same task, but this time utilize a pre-trained network for the majority of your model. You should only train the final Dense layer, all other weights should be fixed. You can use whichever pre-trained backbone you like (ResNet, VGG, etc). Report on your model’s performance on training set and test set."
   ]
  },
  {
   "cell_type": "markdown",
   "metadata": {
    "colab_type": "text",
    "id": "dfJLqG_oHCK5"
   },
   "source": [
    "_Using the VGG backbone with fine tuning did not improve the results. It still did well - with a 89.09% test accuracy and 94.09% training acurracy. Perhaps the images used to train VGG, ImageNet, are too different from the FashionMNIST dataset to realize any big gains. Others who have used the VGG backbone (as recorded here: https://github.com/zalandoresearch/fashion-mnist) have achieved accuracy rates of 93.5% it seems my results could be improved._"
   ]
  },
  {
   "cell_type": "code",
   "execution_count": 0,
   "metadata": {
    "colab": {},
    "colab_type": "code",
    "collapsed": true,
    "id": "R8IF-6W8l50T"
   },
   "outputs": [],
   "source": [
    "# ref: https://medium.com/@sidereal/cnns-architectures-lenet-alexnet-vgg-googlenet-resnet-and-more-666091488df5"
   ]
  },
  {
   "cell_type": "code",
   "execution_count": 0,
   "metadata": {
    "colab": {},
    "colab_type": "code",
    "collapsed": true,
    "id": "MNCxeiJml50V"
   },
   "outputs": [],
   "source": [
    "# resize images\n",
    "import cv2\n",
    "x_train_big = np.asarray([cv2.resize(x, (48,48)) for x in x_train])\n",
    "x_test_big  = np.asarray([cv2.resize(x, (48,48)) for x in x_test])\n",
    "# plt.imshow(x_train_big[9], 'gray')"
   ]
  },
  {
   "cell_type": "code",
   "execution_count": 0,
   "metadata": {
    "colab": {},
    "colab_type": "code",
    "collapsed": true,
    "id": "ELRCLzopl50X"
   },
   "outputs": [],
   "source": [
    "# reshape \n",
    "x_train_big = x_train_big.reshape(x_train_big.shape[0], 48, 48,1)\n",
    "x_test_big  = x_test_big.reshape(x_test_big.shape[0], 48, 48, 1)\n",
    "\n",
    "# make gray images into rgb images\n",
    "x_train_big = x_train_big.repeat(3, axis=-1)\n",
    "x_test_big  = x_test_big.repeat(3, axis=-1)"
   ]
  },
  {
   "cell_type": "code",
   "execution_count": 18,
   "metadata": {
    "colab": {
     "base_uri": "https://localhost:8080/",
     "height": 34
    },
    "colab_type": "code",
    "id": "u5i_hEtTmx4w",
    "outputId": "e0dc0a25-d27b-467a-a553-8d7f00945f6c"
   },
   "outputs": [
    {
     "data": {
      "text/plain": [
       "(10000, 48, 48, 3)"
      ]
     },
     "execution_count": 18,
     "metadata": {
      "tags": []
     },
     "output_type": "execute_result"
    }
   ],
   "source": [
    "x_test_big.shape"
   ]
  },
  {
   "cell_type": "code",
   "execution_count": 19,
   "metadata": {
    "colab": {
     "base_uri": "https://localhost:8080/",
     "height": 51
    },
    "colab_type": "code",
    "id": "OKBdbpYll50a",
    "outputId": "8ea3cce1-d16d-41bf-f2df-b36b2ce83da0"
   },
   "outputs": [
    {
     "name": "stdout",
     "output_type": "stream",
     "text": [
      "Downloading data from https://github.com/fchollet/deep-learning-models/releases/download/v0.1/vgg16_weights_tf_dim_ordering_tf_kernels_notop.h5\n",
      "58892288/58889256 [==============================] - 2s 0us/step\n"
     ]
    }
   ],
   "source": [
    "# prep VGG backbone\n",
    "from keras.applications import VGG16\n",
    "conv_base = VGG16(weights=\"imagenet\", include_top=False, input_shape=(48,48,3))"
   ]
  },
  {
   "cell_type": "code",
   "execution_count": 0,
   "metadata": {
    "colab": {},
    "colab_type": "code",
    "collapsed": true,
    "id": "EB9EFaUfl50b"
   },
   "outputs": [],
   "source": [
    "# define model\n",
    "model = Sequential()\n",
    "model.add(conv_base)\n",
    "model.add(Flatten())\n",
    "model.add(Dense(512, activation=\"relu\"))\n",
    "model.add(Dense(10, activation=\"softmax\"))"
   ]
  },
  {
   "cell_type": "code",
   "execution_count": 21,
   "metadata": {
    "colab": {
     "base_uri": "https://localhost:8080/",
     "height": 272
    },
    "colab_type": "code",
    "id": "pQ2Cp8Uwl50d",
    "outputId": "01bbe2cc-a9d2-47eb-ef77-bf2c26594571"
   },
   "outputs": [
    {
     "name": "stdout",
     "output_type": "stream",
     "text": [
      "_________________________________________________________________\n",
      "Layer (type)                 Output Shape              Param #   \n",
      "=================================================================\n",
      "vgg16 (Model)                (None, 1, 1, 512)         14714688  \n",
      "_________________________________________________________________\n",
      "flatten_3 (Flatten)          (None, 512)               0         \n",
      "_________________________________________________________________\n",
      "dense_5 (Dense)              (None, 512)               262656    \n",
      "_________________________________________________________________\n",
      "dense_6 (Dense)              (None, 10)                5130      \n",
      "=================================================================\n",
      "Total params: 14,982,474\n",
      "Trainable params: 267,786\n",
      "Non-trainable params: 14,714,688\n",
      "_________________________________________________________________\n"
     ]
    }
   ],
   "source": [
    "# freeze weights so that we only train the final layers\n",
    "conv_base.trainable = False\n",
    "model.summary()"
   ]
  },
  {
   "cell_type": "code",
   "execution_count": 0,
   "metadata": {
    "colab": {},
    "colab_type": "code",
    "collapsed": true,
    "id": "gQpbhjyQl50g"
   },
   "outputs": [],
   "source": [
    "model.compile(loss=\"categorical_crossentropy\", optimizer='adam', metrics=[\"acc\"])"
   ]
  },
  {
   "cell_type": "code",
   "execution_count": 23,
   "metadata": {
    "colab": {
     "base_uri": "https://localhost:8080/",
     "height": 595
    },
    "colab_type": "code",
    "id": "iyWbfBTKl50h",
    "outputId": "e033d7c3-5165-4400-a035-d635d1c9714b"
   },
   "outputs": [
    {
     "name": "stdout",
     "output_type": "stream",
     "text": [
      "Train on 60000 samples, validate on 10000 samples\n",
      "Epoch 1/16\n",
      "60000/60000 [==============================] - 44s 740us/step - loss: 0.5171 - acc: 0.8193 - val_loss: 0.4271 - val_acc: 0.8463\n",
      "Epoch 2/16\n",
      "60000/60000 [==============================] - 42s 702us/step - loss: 0.3763 - acc: 0.8631 - val_loss: 0.3887 - val_acc: 0.8599\n",
      "Epoch 3/16\n",
      "60000/60000 [==============================] - 42s 701us/step - loss: 0.3437 - acc: 0.8740 - val_loss: 0.3836 - val_acc: 0.8599\n",
      "Epoch 4/16\n",
      "60000/60000 [==============================] - 42s 701us/step - loss: 0.3213 - acc: 0.8828 - val_loss: 0.3799 - val_acc: 0.8657\n",
      "Epoch 5/16\n",
      "60000/60000 [==============================] - 42s 700us/step - loss: 0.3046 - acc: 0.8876 - val_loss: 0.3715 - val_acc: 0.8664\n",
      "Epoch 6/16\n",
      "60000/60000 [==============================] - 42s 702us/step - loss: 0.2873 - acc: 0.8939 - val_loss: 0.3503 - val_acc: 0.8735\n",
      "Epoch 7/16\n",
      "60000/60000 [==============================] - 42s 701us/step - loss: 0.2743 - acc: 0.8985 - val_loss: 0.3563 - val_acc: 0.8748\n",
      "Epoch 8/16\n",
      "60000/60000 [==============================] - 42s 700us/step - loss: 0.2614 - acc: 0.9026 - val_loss: 0.3367 - val_acc: 0.8825\n",
      "Epoch 9/16\n",
      "60000/60000 [==============================] - 42s 700us/step - loss: 0.2502 - acc: 0.9077 - val_loss: 0.3449 - val_acc: 0.8783\n",
      "Epoch 10/16\n",
      "60000/60000 [==============================] - 42s 700us/step - loss: 0.2387 - acc: 0.9119 - val_loss: 0.3394 - val_acc: 0.8820\n",
      "Epoch 11/16\n",
      "60000/60000 [==============================] - 42s 702us/step - loss: 0.2293 - acc: 0.9149 - val_loss: 0.3411 - val_acc: 0.8813\n",
      "Epoch 12/16\n",
      "60000/60000 [==============================] - 42s 700us/step - loss: 0.2190 - acc: 0.9190 - val_loss: 0.3379 - val_acc: 0.8827\n",
      "Epoch 13/16\n",
      "60000/60000 [==============================] - 42s 701us/step - loss: 0.2082 - acc: 0.9230 - val_loss: 0.3438 - val_acc: 0.8813\n",
      "Epoch 14/16\n",
      "60000/60000 [==============================] - 42s 700us/step - loss: 0.2007 - acc: 0.9259 - val_loss: 0.3356 - val_acc: 0.8878\n",
      "Epoch 15/16\n",
      "60000/60000 [==============================] - 42s 701us/step - loss: 0.1920 - acc: 0.9295 - val_loss: 0.3363 - val_acc: 0.8900\n",
      "Epoch 16/16\n",
      "60000/60000 [==============================] - 42s 701us/step - loss: 0.1839 - acc: 0.9328 - val_loss: 0.3366 - val_acc: 0.8909\n"
     ]
    },
    {
     "data": {
      "text/plain": [
       "<keras.callbacks.History at 0x7fe678457c18>"
      ]
     },
     "execution_count": 23,
     "metadata": {
      "tags": []
     },
     "output_type": "execute_result"
    }
   ],
   "source": [
    "# fit (ran on google colab, takes about 10 mins)\n",
    "model.fit(x_train_big, \n",
    "          y_train,\n",
    "          batch_size=128,\n",
    "          shuffle=True,\n",
    "          epochs=16, \n",
    "          validation_data=(x_test_big, y_test))"
   ]
  },
  {
   "cell_type": "code",
   "execution_count": 26,
   "metadata": {
    "colab": {
     "base_uri": "https://localhost:8080/",
     "height": 85
    },
    "colab_type": "code",
    "id": "tkQdGeBCHU-P",
    "outputId": "f8ebde94-f661-4b90-9b3e-ffff9b930832"
   },
   "outputs": [
    {
     "name": "stdout",
     "output_type": "stream",
     "text": [
      "10000/10000 [==============================] - 9s 879us/step\n",
      "[0.33660674959421155, 0.8909]\n",
      "60000/60000 [==============================] - 53s 875us/step\n",
      "[0.16318389824877183, 0.9409166666666666]\n"
     ]
    }
   ],
   "source": [
    "print(model.evaluate(x_test_big, y_test))\n",
    "print(model.evaluate(x_train_big, y_train))"
   ]
  },
  {
   "cell_type": "markdown",
   "metadata": {
    "colab_type": "text",
    "id": "sWmdeOell50m"
   },
   "source": [
    "### Problem 3: Text Classification"
   ]
  },
  {
   "cell_type": "markdown",
   "metadata": {
    "colab_type": "text",
    "id": "NeXR-wI9l50m"
   },
   "source": [
    "While images contain local spatial correlations and structure, many other datasets contain temporal correlations. Examples include time series and discrete se- quences such as text. In this problem, we will tackle the task of text classification in the context of cybersecurity.\n",
    "\n",
    "Background:   \n",
    "When malware infects a host computer, it often needs to reach out to an outside server for further instructions or to download additional payloads. This outside server is called a Command-and-Control server (C2). The malware needs to send a specific communication to the C2 server, thus the C2 server needs to have a registered IP address or associated web domain so that it can be reached. Therefore, being able to identify web domains that are likely related to malware C2 can be a valuable cyber defense.\n",
    "\n",
    "Dataset:   \n",
    "Fortunately, security researchers have already identified and logged a large number of malicious URLs. Additionally, we can catalog common ”benign” URLs just from typical web behavior (these would include things like facebook.com and amazon.com). Hence, we have a labeled dataset for text classification which can be downloaded here:\n",
    "-  https://s3.amazonaws.com/anly-590/url-classification/benign-urls.txt\n",
    "- https://s3.amazonaws.com/anly-590/url-classification/malicious-urls.txt"
   ]
  },
  {
   "cell_type": "markdown",
   "metadata": {
    "colab_type": "text",
    "id": "osxNtAmZHCLU"
   },
   "source": [
    "#### Data Prep"
   ]
  },
  {
   "cell_type": "code",
   "execution_count": 76,
   "metadata": {
    "collapsed": true
   },
   "outputs": [],
   "source": [
    "# import packages\n",
    "import requests\n",
    "from sklearn.model_selection import train_test_split"
   ]
  },
  {
   "cell_type": "code",
   "execution_count": 63,
   "metadata": {
    "colab": {},
    "colab_type": "code",
    "collapsed": true,
    "id": "OQmLnF7pHCLV"
   },
   "outputs": [],
   "source": [
    "url_good = 'https://s3.amazonaws.com/anly-590/url-classification/benign-urls.txt'\n",
    "url_mal  = 'https://s3.amazonaws.com/anly-590/url-classification/malicious-urls.txt'"
   ]
  },
  {
   "cell_type": "code",
   "execution_count": 64,
   "metadata": {
    "colab": {},
    "colab_type": "code",
    "id": "igYvdDx4HCLX"
   },
   "outputs": [],
   "source": [
    "r_good = requests.get(url_good).text\n",
    "r_mal  = requests.get(url_mal).text"
   ]
  },
  {
   "cell_type": "code",
   "execution_count": 72,
   "metadata": {},
   "outputs": [],
   "source": [
    "good_urls = list(r_good.split(\"\\n\"))[1:]\n",
    "mal_urls  = list(r_mal.split(\"\\n\"))\n",
    "urls_list = good_urls + mal_urls\n",
    "len(urls_list)"
   ]
  },
  {
   "cell_type": "code",
   "execution_count": 66,
   "metadata": {},
   "outputs": [
    {
     "data": {
      "text/plain": [
       "66056"
      ]
     },
     "execution_count": 66,
     "metadata": {},
     "output_type": "execute_result"
    }
   ],
   "source": [
    "# add in classes (0=benign, 1=mal)\n",
    "print(len(good_urls))\n",
    "print(len(mal_urls))\n",
    "class_list = [0]*66056 + [1]*1297\n",
    "print(len(class_list))"
   ]
  },
  {
   "cell_type": "code",
   "execution_count": 77,
   "metadata": {
    "collapsed": true
   },
   "outputs": [],
   "source": [
    "# split test and train\n",
    "x_train, x_test, y_train, y_test = train_test_split(urls_list, class_list, test_size=0.33, random_state=480)"
   ]
  },
  {
   "cell_type": "code",
   "execution_count": 103,
   "metadata": {},
   "outputs": [
    {
     "name": "stdout",
     "output_type": "stream",
     "text": [
      "44258 868\n",
      "868\n"
     ]
    }
   ],
   "source": [
    "# check results\n",
    "print(y_train.count(0), y_train.count(1))\n",
    "print(len([x for x in x_train if x in mal_urls]))"
   ]
  },
  {
   "cell_type": "markdown",
   "metadata": {
    "colab_type": "text",
    "id": "w_gCaOL2l50n"
   },
   "source": [
    "#### 3.1: RNN\n",
    "Build and train a Recurrent Neural Network to solve this text classification task. You can use any type of RNN you wish (SimpleRNN, GRU, LSTM)."
   ]
  },
  {
   "cell_type": "code",
   "execution_count": 104,
   "metadata": {
    "colab": {},
    "colab_type": "code",
    "id": "x01d_9CHl50n"
   },
   "outputs": [
    {
     "data": {
      "text/plain": [
       "'.box5656.bluehost.com'"
      ]
     },
     "execution_count": 104,
     "metadata": {},
     "output_type": "execute_result"
    }
   ],
   "source": []
  },
  {
   "cell_type": "code",
   "execution_count": 0,
   "metadata": {
    "colab": {},
    "colab_type": "code",
    "collapsed": true,
    "id": "gIMxhWqel50o"
   },
   "outputs": [],
   "source": []
  },
  {
   "cell_type": "code",
   "execution_count": 0,
   "metadata": {
    "colab": {},
    "colab_type": "code",
    "collapsed": true,
    "id": "HL1T5WpKl50q"
   },
   "outputs": [],
   "source": []
  },
  {
   "cell_type": "code",
   "execution_count": 0,
   "metadata": {
    "colab": {},
    "colab_type": "code",
    "collapsed": true,
    "id": "631NqN8Zl50s"
   },
   "outputs": [],
   "source": []
  },
  {
   "cell_type": "markdown",
   "metadata": {
    "colab_type": "text",
    "id": "fLChG-3Cl50u"
   },
   "source": [
    "#### 3.2: CNN\n",
    "Build and train a 1D CNN for this text classification task. You might gain some insight and inspiration from these text classification approaches:\n",
    "-  http://www.aclweb.org/anthology/D14-1181 \n",
    "-  https://arxiv.org/abs/1702.08568"
   ]
  },
  {
   "cell_type": "code",
   "execution_count": 0,
   "metadata": {
    "colab": {},
    "colab_type": "code",
    "collapsed": true,
    "id": "HdS1NUEpl500"
   },
   "outputs": [],
   "source": []
  },
  {
   "cell_type": "code",
   "execution_count": 0,
   "metadata": {
    "colab": {},
    "colab_type": "code",
    "collapsed": true,
    "id": "JdwAOqCql501"
   },
   "outputs": [],
   "source": []
  }
 ],
 "metadata": {
  "accelerator": "GPU",
  "colab": {
   "name": "hw2.ipynb",
   "provenance": [],
   "version": "0.3.2"
  },
  "kernelspec": {
   "display_name": "Python 3",
   "language": "python",
   "name": "python3"
  },
  "language_info": {
   "codemirror_mode": {
    "name": "ipython",
    "version": 3
   },
   "file_extension": ".py",
   "mimetype": "text/x-python",
   "name": "python",
   "nbconvert_exporter": "python",
   "pygments_lexer": "ipython3",
   "version": "3.6.1"
  }
 },
 "nbformat": 4,
 "nbformat_minor": 1
}
